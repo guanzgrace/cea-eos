{
 "cells": [
  {
   "cell_type": "code",
   "execution_count": 1,
   "metadata": {},
   "outputs": [],
   "source": [
    "import scipy.stats as ss\n",
    "import matplotlib.pyplot as plt\n",
    "import numpy as np\n",
    "import pandas as pd"
   ]
  },
  {
   "cell_type": "code",
   "execution_count": 2,
   "metadata": {},
   "outputs": [],
   "source": [
    "to_fit = pd.read_csv(\"Data/qaly_input_full.csv\")"
   ]
  },
  {
   "cell_type": "code",
   "execution_count": 3,
   "metadata": {
    "scrolled": true
   },
   "outputs": [
    {
     "data": {
      "text/html": [
       "<div>\n",
       "<style scoped>\n",
       "    .dataframe tbody tr th:only-of-type {\n",
       "        vertical-align: middle;\n",
       "    }\n",
       "\n",
       "    .dataframe tbody tr th {\n",
       "        vertical-align: top;\n",
       "    }\n",
       "\n",
       "    .dataframe thead th {\n",
       "        text-align: right;\n",
       "    }\n",
       "</style>\n",
       "<table border=\"1\" class=\"dataframe\">\n",
       "  <thead>\n",
       "    <tr style=\"text-align: right;\">\n",
       "      <th></th>\n",
       "      <th>Description</th>\n",
       "      <th>Value</th>\n",
       "      <th>Lower Bound</th>\n",
       "      <th>Upper Bound</th>\n",
       "    </tr>\n",
       "  </thead>\n",
       "  <tbody>\n",
       "    <tr>\n",
       "      <th>0</th>\n",
       "      <td>Child-Ototoxicity</td>\n",
       "      <td>25.66</td>\n",
       "      <td>23.80</td>\n",
       "      <td>27.51</td>\n",
       "    </tr>\n",
       "    <tr>\n",
       "      <th>1</th>\n",
       "      <td>Child-NCD</td>\n",
       "      <td>20.71</td>\n",
       "      <td>17.31</td>\n",
       "      <td>22.87</td>\n",
       "    </tr>\n",
       "  </tbody>\n",
       "</table>\n",
       "</div>"
      ],
      "text/plain": [
       "         Description  Value  Lower Bound  Upper Bound\n",
       "0  Child-Ototoxicity  25.66        23.80        27.51\n",
       "1          Child-NCD  20.71        17.31        22.87"
      ]
     },
     "execution_count": 3,
     "metadata": {},
     "output_type": "execute_result"
    }
   ],
   "source": [
    "to_fit"
   ]
  },
  {
   "cell_type": "code",
   "execution_count": 4,
   "metadata": {},
   "outputs": [],
   "source": [
    "# fits an encompassing beta distribution to an expected value of value,\n",
    "# 2.5th percentile of lower_bound, and 97.5th percentile of upper_bound\n",
    "# scale_lower_bound and scale_upper_bound are guesses as to what the\n",
    "# scale should be.\n",
    "\n",
    "def fit_encompassing_beta_distr(value, lower_bound, upper_bound):\n",
    "    og_alpha = value\n",
    "    og_beta = 1-og_alpha\n",
    "    \n",
    "    \n",
    "    \n",
    "    for scale in range(2000):\n",
    "        scale = 2000 - scale\n",
    "        alpha = og_alpha * scale\n",
    "        beta = og_beta * scale\n",
    "        ppf_025 = ss.beta.ppf(0.025, alpha, beta)\n",
    "        ppf_975 = ss.beta.ppf(0.975, alpha, beta)\n",
    "        \n",
    "        if ppf_975 > upper_bound and ppf_025 < lower_bound:\n",
    "            print(\"alpha: %.2f \\t beta: %.2f\" % (alpha, beta))           \n",
    "            return alpha, beta\n",
    "        \n",
    "    scale_lower_bound = 0.01\n",
    "    scale_upper_bound = 0.5\n",
    "    linspace_points = 0.01\n",
    "    search_range = np.arange(scale_lower_bound, scale_upper_bound, linspace_points)\n",
    "\n",
    "    for scale in search_range:\n",
    "        ppf_975 = ss.gamma.ppf(0.975, a=value/scale, scale=scale)\n",
    "        ppf_025 = ss.gamma.ppf(0.025, a=value/scale, scale=scale)\n",
    "        \n",
    "        \n",
    "        if ppf_975 > upper_bound and ppf_025 < lower_bound:\n",
    "            a = value / scale\n",
    "            print(\"a: %.2f \\t scale: %.2f\" % (a, scale))           \n",
    "            return a, scale\n",
    "        \n",
    "    print(\"No match found\")\n",
    "    return 0, 0"
   ]
  },
  {
   "cell_type": "code",
   "execution_count": 5,
   "metadata": {},
   "outputs": [],
   "source": [
    "scale_lower_bound = 0.01\n",
    "scale_upper_bound = 0.5\n",
    "linspace_points = 0.01\n",
    "search_range = np.arange(scale_lower_bound, scale_upper_bound, linspace_points)\n"
   ]
  },
  {
   "cell_type": "code",
   "execution_count": 6,
   "metadata": {},
   "outputs": [
    {
     "data": {
      "text/plain": [
       "array([0.01, 0.02, 0.03, 0.04, 0.05, 0.06, 0.07, 0.08, 0.09, 0.1 , 0.11,\n",
       "       0.12, 0.13, 0.14, 0.15, 0.16, 0.17, 0.18, 0.19, 0.2 , 0.21, 0.22,\n",
       "       0.23, 0.24, 0.25, 0.26, 0.27, 0.28, 0.29, 0.3 , 0.31, 0.32, 0.33,\n",
       "       0.34, 0.35, 0.36, 0.37, 0.38, 0.39, 0.4 , 0.41, 0.42, 0.43, 0.44,\n",
       "       0.45, 0.46, 0.47, 0.48, 0.49])"
      ]
     },
     "execution_count": 6,
     "metadata": {},
     "output_type": "execute_result"
    }
   ],
   "source": [
    "search_range"
   ]
  },
  {
   "cell_type": "code",
   "execution_count": 7,
   "metadata": {},
   "outputs": [
    {
     "name": "stdout",
     "output_type": "stream",
     "text": [
      "a: 641.50 \t scale: 0.04\n",
      "a: 641.50 \t scale: 0.04\n",
      "a: 129.44 \t scale: 0.16\n"
     ]
    }
   ],
   "source": [
    "to_fit[\"alpha\"], to_fit[\"beta\"] = np.vectorize(fit_encompassing_beta_distr)(to_fit[\"Value\"], to_fit[\"Lower Bound\"], to_fit[\"Upper Bound\"])"
   ]
  },
  {
   "cell_type": "code",
   "execution_count": 8,
   "metadata": {},
   "outputs": [],
   "source": [
    "to_fit[\"beta_mean\"] = ss.gamma.mean(to_fit[\"alpha\"], to_fit[\"beta\"])\n",
    "to_fit[\"beta_2.5pct\"] = ss.gamma.ppf(0.025, a=to_fit[\"alpha\"], scale=to_fit[\"beta\"])\n",
    "to_fit[\"beta_97.5pct\"] = ss.gamma.ppf(0.975, a=to_fit[\"alpha\"], scale=to_fit[\"beta\"])"
   ]
  },
  {
   "cell_type": "code",
   "execution_count": 9,
   "metadata": {},
   "outputs": [
    {
     "data": {
      "text/html": [
       "<div>\n",
       "<style scoped>\n",
       "    .dataframe tbody tr th:only-of-type {\n",
       "        vertical-align: middle;\n",
       "    }\n",
       "\n",
       "    .dataframe tbody tr th {\n",
       "        vertical-align: top;\n",
       "    }\n",
       "\n",
       "    .dataframe thead th {\n",
       "        text-align: right;\n",
       "    }\n",
       "</style>\n",
       "<table border=\"1\" class=\"dataframe\">\n",
       "  <thead>\n",
       "    <tr style=\"text-align: right;\">\n",
       "      <th></th>\n",
       "      <th>Description</th>\n",
       "      <th>Value</th>\n",
       "      <th>Lower Bound</th>\n",
       "      <th>Upper Bound</th>\n",
       "      <th>alpha</th>\n",
       "      <th>beta</th>\n",
       "      <th>beta_mean</th>\n",
       "      <th>beta_2.5pct</th>\n",
       "      <th>beta_97.5pct</th>\n",
       "    </tr>\n",
       "  </thead>\n",
       "  <tbody>\n",
       "    <tr>\n",
       "      <th>0</th>\n",
       "      <td>Child-Ototoxicity</td>\n",
       "      <td>25.66</td>\n",
       "      <td>23.80</td>\n",
       "      <td>27.51</td>\n",
       "      <td>641.5000</td>\n",
       "      <td>0.04</td>\n",
       "      <td>641.5400</td>\n",
       "      <td>23.712486</td>\n",
       "      <td>27.683277</td>\n",
       "    </tr>\n",
       "    <tr>\n",
       "      <th>1</th>\n",
       "      <td>Child-NCD</td>\n",
       "      <td>20.71</td>\n",
       "      <td>17.31</td>\n",
       "      <td>22.87</td>\n",
       "      <td>129.4375</td>\n",
       "      <td>0.16</td>\n",
       "      <td>129.5975</td>\n",
       "      <td>17.296094</td>\n",
       "      <td>24.426826</td>\n",
       "    </tr>\n",
       "  </tbody>\n",
       "</table>\n",
       "</div>"
      ],
      "text/plain": [
       "         Description  Value  Lower Bound  Upper Bound     alpha  beta  \\\n",
       "0  Child-Ototoxicity  25.66        23.80        27.51  641.5000  0.04   \n",
       "1          Child-NCD  20.71        17.31        22.87  129.4375  0.16   \n",
       "\n",
       "   beta_mean  beta_2.5pct  beta_97.5pct  \n",
       "0   641.5400    23.712486     27.683277  \n",
       "1   129.5975    17.296094     24.426826  "
      ]
     },
     "execution_count": 9,
     "metadata": {},
     "output_type": "execute_result"
    }
   ],
   "source": [
    "to_fit"
   ]
  },
  {
   "cell_type": "code",
   "execution_count": 10,
   "metadata": {},
   "outputs": [],
   "source": [
    "to_fit.to_csv(\"Data/qaly_output_full.csv\")"
   ]
  },
  {
   "cell_type": "code",
   "execution_count": null,
   "metadata": {},
   "outputs": [],
   "source": []
  }
 ],
 "metadata": {
  "kernelspec": {
   "display_name": "Python 3",
   "language": "python",
   "name": "python3"
  },
  "language_info": {
   "codemirror_mode": {
    "name": "ipython",
    "version": 3
   },
   "file_extension": ".py",
   "mimetype": "text/x-python",
   "name": "python",
   "nbconvert_exporter": "python",
   "pygments_lexer": "ipython3",
   "version": "3.8.3"
  }
 },
 "nbformat": 4,
 "nbformat_minor": 4
}
