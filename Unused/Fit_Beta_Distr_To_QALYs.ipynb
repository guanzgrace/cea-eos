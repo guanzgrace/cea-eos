{
 "cells": [
  {
   "cell_type": "code",
   "execution_count": 1,
   "metadata": {},
   "outputs": [],
   "source": [
    "import scipy.stats as ss\n",
    "import matplotlib.pyplot as plt\n",
    "import numpy as np\n",
    "import pandas as pd"
   ]
  },
  {
   "cell_type": "code",
   "execution_count": 2,
   "metadata": {},
   "outputs": [],
   "source": [
    "to_fit = pd.read_csv(\"Data/qaly_input.csv\")"
   ]
  },
  {
   "cell_type": "code",
   "execution_count": 3,
   "metadata": {},
   "outputs": [
    {
     "data": {
      "text/html": [
       "<div>\n",
       "<style scoped>\n",
       "    .dataframe tbody tr th:only-of-type {\n",
       "        vertical-align: middle;\n",
       "    }\n",
       "\n",
       "    .dataframe tbody tr th {\n",
       "        vertical-align: top;\n",
       "    }\n",
       "\n",
       "    .dataframe thead th {\n",
       "        text-align: right;\n",
       "    }\n",
       "</style>\n",
       "<table border=\"1\" class=\"dataframe\">\n",
       "  <thead>\n",
       "    <tr style=\"text-align: right;\">\n",
       "      <th></th>\n",
       "      <th>Description</th>\n",
       "      <th>Value</th>\n",
       "      <th>Lower Bound</th>\n",
       "      <th>Upper Bound</th>\n",
       "    </tr>\n",
       "  </thead>\n",
       "  <tbody>\n",
       "    <tr>\n",
       "      <th>0</th>\n",
       "      <td>Child-Ototoxicity</td>\n",
       "      <td>0.83</td>\n",
       "      <td>0.77</td>\n",
       "      <td>0.89</td>\n",
       "    </tr>\n",
       "    <tr>\n",
       "      <th>1</th>\n",
       "      <td>Child-NCD</td>\n",
       "      <td>0.67</td>\n",
       "      <td>0.56</td>\n",
       "      <td>0.74</td>\n",
       "    </tr>\n",
       "    <tr>\n",
       "      <th>2</th>\n",
       "      <td>Mother-Ototoxicity or NCD</td>\n",
       "      <td>0.85</td>\n",
       "      <td>0.74</td>\n",
       "      <td>0.94</td>\n",
       "    </tr>\n",
       "    <tr>\n",
       "      <th>3</th>\n",
       "      <td>Mother-Infant Death</td>\n",
       "      <td>0.92</td>\n",
       "      <td>0.60</td>\n",
       "      <td>0.99</td>\n",
       "    </tr>\n",
       "  </tbody>\n",
       "</table>\n",
       "</div>"
      ],
      "text/plain": [
       "                 Description  Value  Lower Bound  Upper Bound\n",
       "0          Child-Ototoxicity   0.83         0.77         0.89\n",
       "1                  Child-NCD   0.67         0.56         0.74\n",
       "2  Mother-Ototoxicity or NCD   0.85         0.74         0.94\n",
       "3        Mother-Infant Death   0.92         0.60         0.99"
      ]
     },
     "execution_count": 3,
     "metadata": {},
     "output_type": "execute_result"
    }
   ],
   "source": [
    "to_fit"
   ]
  },
  {
   "cell_type": "code",
   "execution_count": 4,
   "metadata": {},
   "outputs": [],
   "source": [
    "# fits an encompassing beta distribution to an expected value of value,\n",
    "# 2.5th percentile of lower_bound, and 97.5th percentile of upper_bound\n",
    "# scale_lower_bound and scale_upper_bound are guesses as to what the\n",
    "# scale should be.\n",
    "\n",
    "def fit_encompassing_beta_distr(value, lower_bound, upper_bound):\n",
    "    og_alpha = value\n",
    "    og_beta = 1-og_alpha\n",
    "    \n",
    "    for scale in range(200):\n",
    "        scale = 200 - scale\n",
    "        alpha = og_alpha * scale\n",
    "        beta = og_beta * scale\n",
    "        ppf_025 = ss.beta.ppf(0.025, alpha, beta)\n",
    "        ppf_975 = ss.beta.ppf(0.975, alpha, beta)\n",
    "        \n",
    "        if ppf_975 > upper_bound and ppf_025 < lower_bound:\n",
    "            print(\"alpha: %.2f \\t beta: %.2f\" % (alpha, beta))           \n",
    "            return alpha, beta\n",
    "        \n",
    "    print(\"No match found\")\n",
    "    return 0, 0"
   ]
  },
  {
   "cell_type": "code",
   "execution_count": 5,
   "metadata": {},
   "outputs": [
    {
     "name": "stdout",
     "output_type": "stream",
     "text": [
      "alpha: 104.58 \t beta: 21.42\n",
      "alpha: 104.58 \t beta: 21.42\n",
      "alpha: 49.58 \t beta: 24.42\n",
      "alpha: 34.85 \t beta: 6.15\n",
      "alpha: 4.60 \t beta: 0.40\n"
     ]
    }
   ],
   "source": [
    "to_fit[\"alpha\"], to_fit[\"beta\"] = np.vectorize(fit_encompassing_beta_distr)(to_fit[\"Value\"], to_fit[\"Lower Bound\"], to_fit[\"Upper Bound\"])"
   ]
  },
  {
   "cell_type": "code",
   "execution_count": 6,
   "metadata": {},
   "outputs": [],
   "source": [
    "to_fit[\"beta_mean\"] = ss.beta.mean(to_fit[\"alpha\"], to_fit[\"beta\"])\n",
    "to_fit[\"beta_2.5pct\"] = ss.beta.ppf(0.025, to_fit[\"alpha\"], to_fit[\"beta\"])\n",
    "to_fit[\"beta_97.5pct\"] = ss.beta.ppf(0.975, to_fit[\"alpha\"], to_fit[\"beta\"])"
   ]
  },
  {
   "cell_type": "code",
   "execution_count": 7,
   "metadata": {},
   "outputs": [
    {
     "data": {
      "text/html": [
       "<div>\n",
       "<style scoped>\n",
       "    .dataframe tbody tr th:only-of-type {\n",
       "        vertical-align: middle;\n",
       "    }\n",
       "\n",
       "    .dataframe tbody tr th {\n",
       "        vertical-align: top;\n",
       "    }\n",
       "\n",
       "    .dataframe thead th {\n",
       "        text-align: right;\n",
       "    }\n",
       "</style>\n",
       "<table border=\"1\" class=\"dataframe\">\n",
       "  <thead>\n",
       "    <tr style=\"text-align: right;\">\n",
       "      <th></th>\n",
       "      <th>Description</th>\n",
       "      <th>Value</th>\n",
       "      <th>Lower Bound</th>\n",
       "      <th>Upper Bound</th>\n",
       "      <th>alpha</th>\n",
       "      <th>beta</th>\n",
       "      <th>beta_mean</th>\n",
       "      <th>beta_2.5pct</th>\n",
       "      <th>beta_97.5pct</th>\n",
       "    </tr>\n",
       "  </thead>\n",
       "  <tbody>\n",
       "    <tr>\n",
       "      <th>0</th>\n",
       "      <td>Child-Ototoxicity</td>\n",
       "      <td>0.83</td>\n",
       "      <td>0.77</td>\n",
       "      <td>0.89</td>\n",
       "      <td>104.58</td>\n",
       "      <td>21.42</td>\n",
       "      <td>0.83</td>\n",
       "      <td>0.759965</td>\n",
       "      <td>0.890127</td>\n",
       "    </tr>\n",
       "    <tr>\n",
       "      <th>1</th>\n",
       "      <td>Child-NCD</td>\n",
       "      <td>0.67</td>\n",
       "      <td>0.56</td>\n",
       "      <td>0.74</td>\n",
       "      <td>49.58</td>\n",
       "      <td>24.42</td>\n",
       "      <td>0.67</td>\n",
       "      <td>0.559606</td>\n",
       "      <td>0.771689</td>\n",
       "    </tr>\n",
       "    <tr>\n",
       "      <th>2</th>\n",
       "      <td>Mother-Ototoxicity or NCD</td>\n",
       "      <td>0.85</td>\n",
       "      <td>0.74</td>\n",
       "      <td>0.94</td>\n",
       "      <td>34.85</td>\n",
       "      <td>6.15</td>\n",
       "      <td>0.85</td>\n",
       "      <td>0.727356</td>\n",
       "      <td>0.940517</td>\n",
       "    </tr>\n",
       "    <tr>\n",
       "      <th>3</th>\n",
       "      <td>Mother-Infant Death</td>\n",
       "      <td>0.92</td>\n",
       "      <td>0.60</td>\n",
       "      <td>0.99</td>\n",
       "      <td>4.60</td>\n",
       "      <td>0.40</td>\n",
       "      <td>0.92</td>\n",
       "      <td>0.597570</td>\n",
       "      <td>0.999983</td>\n",
       "    </tr>\n",
       "  </tbody>\n",
       "</table>\n",
       "</div>"
      ],
      "text/plain": [
       "                 Description  Value  Lower Bound  Upper Bound   alpha   beta  \\\n",
       "0          Child-Ototoxicity   0.83         0.77         0.89  104.58  21.42   \n",
       "1                  Child-NCD   0.67         0.56         0.74   49.58  24.42   \n",
       "2  Mother-Ototoxicity or NCD   0.85         0.74         0.94   34.85   6.15   \n",
       "3        Mother-Infant Death   0.92         0.60         0.99    4.60   0.40   \n",
       "\n",
       "   beta_mean  beta_2.5pct  beta_97.5pct  \n",
       "0       0.83     0.759965      0.890127  \n",
       "1       0.67     0.559606      0.771689  \n",
       "2       0.85     0.727356      0.940517  \n",
       "3       0.92     0.597570      0.999983  "
      ]
     },
     "execution_count": 7,
     "metadata": {},
     "output_type": "execute_result"
    }
   ],
   "source": [
    "to_fit"
   ]
  },
  {
   "cell_type": "code",
   "execution_count": 8,
   "metadata": {},
   "outputs": [],
   "source": [
    "to_fit.to_csv(\"Data/qaly_output.csv\")"
   ]
  },
  {
   "cell_type": "code",
   "execution_count": null,
   "metadata": {},
   "outputs": [],
   "source": []
  }
 ],
 "metadata": {
  "kernelspec": {
   "display_name": "Python 3",
   "language": "python",
   "name": "python3"
  },
  "language_info": {
   "codemirror_mode": {
    "name": "ipython",
    "version": 3
   },
   "file_extension": ".py",
   "mimetype": "text/x-python",
   "name": "python",
   "nbconvert_exporter": "python",
   "pygments_lexer": "ipython3",
   "version": "3.8.3"
  }
 },
 "nbformat": 4,
 "nbformat_minor": 4
}
