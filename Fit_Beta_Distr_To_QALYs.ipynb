{
 "cells": [
  {
   "cell_type": "code",
   "execution_count": 1,
   "metadata": {},
   "outputs": [],
   "source": [
    "import scipy.stats as ss\n",
    "import matplotlib.pyplot as plt\n",
    "import numpy as np\n",
    "import pandas as pd"
   ]
  },
  {
   "cell_type": "code",
   "execution_count": 2,
   "metadata": {},
   "outputs": [],
   "source": [
    "to_fit = pd.read_csv(\"Data/qaly_input_full.csv\")"
   ]
  },
  {
   "cell_type": "code",
   "execution_count": 3,
   "metadata": {
    "scrolled": true
   },
   "outputs": [
    {
     "data": {
      "text/html": [
       "<div>\n",
       "<style scoped>\n",
       "    .dataframe tbody tr th:only-of-type {\n",
       "        vertical-align: middle;\n",
       "    }\n",
       "\n",
       "    .dataframe tbody tr th {\n",
       "        vertical-align: top;\n",
       "    }\n",
       "\n",
       "    .dataframe thead th {\n",
       "        text-align: right;\n",
       "    }\n",
       "</style>\n",
       "<table border=\"1\" class=\"dataframe\">\n",
       "  <thead>\n",
       "    <tr style=\"text-align: right;\">\n",
       "      <th></th>\n",
       "      <th>Description</th>\n",
       "      <th>Value</th>\n",
       "      <th>Lower Bound</th>\n",
       "      <th>Upper Bound</th>\n",
       "    </tr>\n",
       "  </thead>\n",
       "  <tbody>\n",
       "    <tr>\n",
       "      <th>0</th>\n",
       "      <td>Child-Ototoxicity</td>\n",
       "      <td>24.139307</td>\n",
       "      <td>22.391619</td>\n",
       "      <td>25.887412</td>\n",
       "    </tr>\n",
       "    <tr>\n",
       "      <th>1</th>\n",
       "      <td>Child-NCD</td>\n",
       "      <td>19.485947</td>\n",
       "      <td>16.284814</td>\n",
       "      <td>21.524365</td>\n",
       "    </tr>\n",
       "    <tr>\n",
       "      <th>2</th>\n",
       "      <td>Caregiver-Oto or NCD</td>\n",
       "      <td>11.137435</td>\n",
       "      <td>9.696120</td>\n",
       "      <td>12.316693</td>\n",
       "    </tr>\n",
       "    <tr>\n",
       "      <th>3</th>\n",
       "      <td>Caregiver-Infant Death</td>\n",
       "      <td>12.054636</td>\n",
       "      <td>10.482292</td>\n",
       "      <td>12.971836</td>\n",
       "    </tr>\n",
       "  </tbody>\n",
       "</table>\n",
       "</div>"
      ],
      "text/plain": [
       "              Description      Value  Lower Bound  Upper Bound\n",
       "0       Child-Ototoxicity  24.139307    22.391619    25.887412\n",
       "1               Child-NCD  19.485947    16.284814    21.524365\n",
       "2    Caregiver-Oto or NCD  11.137435     9.696120    12.316693\n",
       "3  Caregiver-Infant Death  12.054636    10.482292    12.971836"
      ]
     },
     "execution_count": 3,
     "metadata": {},
     "output_type": "execute_result"
    }
   ],
   "source": [
    "to_fit"
   ]
  },
  {
   "cell_type": "code",
   "execution_count": 4,
   "metadata": {},
   "outputs": [],
   "source": [
    "# fits an encompassing gamma distribution to an expected value of value,\n",
    "# 2.5th percentile of lower_bound, and 97.5th percentile of upper_bound\n",
    "# scale_lower_bound and scale_upper_bound are guesses as to what the\n",
    "# scale should be.\n",
    "\n",
    "def fit_encompassing_gamma_distr(value, lower_bound, upper_bound):\n",
    "\n",
    "    scale_lower_bound = np.around((abs(lower_bound - value)/2)**2 / value, 2)\n",
    "    scale_upper_bound = scale_lower_bound + 10\n",
    "    linspace_points = 1001\n",
    "    search_range = np.linspace(scale_lower_bound, scale_upper_bound, linspace_points)\n",
    "\n",
    "    for scale in search_range:\n",
    "        ppf_975 = ss.gamma.ppf(0.975, a=value/scale, scale=scale)\n",
    "        ppf_025 = ss.gamma.ppf(0.025, a=value/scale, scale=scale)\n",
    "        \n",
    "        \n",
    "        if ppf_975 > upper_bound and ppf_025 < lower_bound:\n",
    "            a = value / scale\n",
    "            print(\"a: %.2f \\t scale: %.2f\" % (a, scale))           \n",
    "            return a, scale\n",
    "        \n",
    "    scale_lower_bound = int((((upper_bound - value)/1.8)**2 / value) / 100) * 100\n",
    "    scale_upper_bound = scale_lower_bound + 100000\n",
    "    linspace_points = 1001\n",
    "    search_range = np.linspace(scale_lower_bound, scale_upper_bound, linspace_points)\n",
    "\n",
    "    for scale in search_range:\n",
    "        ppf_975 = ss.gamma.ppf(0.975, a=value/scale, scale=scale)\n",
    "        ppf_025 = ss.gamma.ppf(0.025, a=value/scale, scale=scale)\n",
    "        \n",
    "        \n",
    "        if ppf_975 > upper_bound and ppf_025 < lower_bound:\n",
    "            a = value / scale\n",
    "            print(\"a: %.2f \\t scale: %.2f\" % (a, scale))           \n",
    "            return a, scale\n",
    "        \n",
    "    print(\"No match found\")\n",
    "    return 0, 0"
   ]
  },
  {
   "cell_type": "code",
   "execution_count": 5,
   "metadata": {},
   "outputs": [],
   "source": [
    "scale_lower_bound = 0.01\n",
    "scale_upper_bound = 0.5\n",
    "linspace_points = 0.01\n",
    "search_range = np.arange(scale_lower_bound, scale_upper_bound, linspace_points)\n"
   ]
  },
  {
   "cell_type": "code",
   "execution_count": 6,
   "metadata": {},
   "outputs": [
    {
     "data": {
      "text/plain": [
       "array([0.01, 0.02, 0.03, 0.04, 0.05, 0.06, 0.07, 0.08, 0.09, 0.1 , 0.11,\n",
       "       0.12, 0.13, 0.14, 0.15, 0.16, 0.17, 0.18, 0.19, 0.2 , 0.21, 0.22,\n",
       "       0.23, 0.24, 0.25, 0.26, 0.27, 0.28, 0.29, 0.3 , 0.31, 0.32, 0.33,\n",
       "       0.34, 0.35, 0.36, 0.37, 0.38, 0.39, 0.4 , 0.41, 0.42, 0.43, 0.44,\n",
       "       0.45, 0.46, 0.47, 0.48, 0.49])"
      ]
     },
     "execution_count": 6,
     "metadata": {},
     "output_type": "execute_result"
    }
   ],
   "source": [
    "search_range"
   ]
  },
  {
   "cell_type": "code",
   "execution_count": 7,
   "metadata": {},
   "outputs": [
    {
     "name": "stdout",
     "output_type": "stream",
     "text": [
      "a: 603.48 \t scale: 0.04\n",
      "a: 603.48 \t scale: 0.04\n",
      "a: 129.91 \t scale: 0.15\n",
      "a: 185.62 \t scale: 0.06\n",
      "a: 200.91 \t scale: 0.06\n"
     ]
    }
   ],
   "source": [
    "to_fit[\"a\"], to_fit[\"scale\"] = np.vectorize(fit_encompassing_gamma_distr)(to_fit[\"Value\"], to_fit[\"Lower Bound\"], to_fit[\"Upper Bound\"])"
   ]
  },
  {
   "cell_type": "code",
   "execution_count": 8,
   "metadata": {},
   "outputs": [],
   "source": [
    "to_fit[\"gamma_mean\"] = to_fit[\"a\"] * to_fit[\"scale\"]\n",
    "to_fit[\"gamma_2.5pct\"] = ss.gamma.ppf(0.025, a=to_fit[\"a\"], scale=to_fit[\"scale\"])\n",
    "to_fit[\"gamma_97.5pct\"] = ss.gamma.ppf(0.975, a=to_fit[\"a\"], scale=to_fit[\"scale\"])"
   ]
  },
  {
   "cell_type": "code",
   "execution_count": 9,
   "metadata": {},
   "outputs": [
    {
     "data": {
      "text/html": [
       "<div>\n",
       "<style scoped>\n",
       "    .dataframe tbody tr th:only-of-type {\n",
       "        vertical-align: middle;\n",
       "    }\n",
       "\n",
       "    .dataframe tbody tr th {\n",
       "        vertical-align: top;\n",
       "    }\n",
       "\n",
       "    .dataframe thead th {\n",
       "        text-align: right;\n",
       "    }\n",
       "</style>\n",
       "<table border=\"1\" class=\"dataframe\">\n",
       "  <thead>\n",
       "    <tr style=\"text-align: right;\">\n",
       "      <th></th>\n",
       "      <th>Description</th>\n",
       "      <th>Value</th>\n",
       "      <th>Lower Bound</th>\n",
       "      <th>Upper Bound</th>\n",
       "      <th>a</th>\n",
       "      <th>scale</th>\n",
       "      <th>gamma_mean</th>\n",
       "      <th>gamma_2.5pct</th>\n",
       "      <th>gamma_97.5pct</th>\n",
       "    </tr>\n",
       "  </thead>\n",
       "  <tbody>\n",
       "    <tr>\n",
       "      <th>0</th>\n",
       "      <td>Child-Ototoxicity</td>\n",
       "      <td>24.139307</td>\n",
       "      <td>22.391619</td>\n",
       "      <td>25.887412</td>\n",
       "      <td>603.482677</td>\n",
       "      <td>0.04</td>\n",
       "      <td>24.139307</td>\n",
       "      <td>22.251539</td>\n",
       "      <td>26.102839</td>\n",
       "    </tr>\n",
       "    <tr>\n",
       "      <th>1</th>\n",
       "      <td>Child-NCD</td>\n",
       "      <td>19.485947</td>\n",
       "      <td>16.284814</td>\n",
       "      <td>21.524365</td>\n",
       "      <td>129.906311</td>\n",
       "      <td>0.15</td>\n",
       "      <td>19.485947</td>\n",
       "      <td>16.279354</td>\n",
       "      <td>22.976527</td>\n",
       "    </tr>\n",
       "    <tr>\n",
       "      <th>2</th>\n",
       "      <td>Caregiver-Oto or NCD</td>\n",
       "      <td>11.137435</td>\n",
       "      <td>9.696120</td>\n",
       "      <td>12.316693</td>\n",
       "      <td>185.623922</td>\n",
       "      <td>0.06</td>\n",
       "      <td>11.137435</td>\n",
       "      <td>9.592800</td>\n",
       "      <td>12.795684</td>\n",
       "    </tr>\n",
       "    <tr>\n",
       "      <th>3</th>\n",
       "      <td>Caregiver-Infant Death</td>\n",
       "      <td>12.054636</td>\n",
       "      <td>10.482292</td>\n",
       "      <td>12.971836</td>\n",
       "      <td>200.910597</td>\n",
       "      <td>0.06</td>\n",
       "      <td>12.054636</td>\n",
       "      <td>10.445306</td>\n",
       "      <td>13.777584</td>\n",
       "    </tr>\n",
       "  </tbody>\n",
       "</table>\n",
       "</div>"
      ],
      "text/plain": [
       "              Description      Value  Lower Bound  Upper Bound           a  \\\n",
       "0       Child-Ototoxicity  24.139307    22.391619    25.887412  603.482677   \n",
       "1               Child-NCD  19.485947    16.284814    21.524365  129.906311   \n",
       "2    Caregiver-Oto or NCD  11.137435     9.696120    12.316693  185.623922   \n",
       "3  Caregiver-Infant Death  12.054636    10.482292    12.971836  200.910597   \n",
       "\n",
       "   scale  gamma_mean  gamma_2.5pct  gamma_97.5pct  \n",
       "0   0.04   24.139307     22.251539      26.102839  \n",
       "1   0.15   19.485947     16.279354      22.976527  \n",
       "2   0.06   11.137435      9.592800      12.795684  \n",
       "3   0.06   12.054636     10.445306      13.777584  "
      ]
     },
     "execution_count": 9,
     "metadata": {},
     "output_type": "execute_result"
    }
   ],
   "source": [
    "to_fit"
   ]
  },
  {
   "cell_type": "code",
   "execution_count": 10,
   "metadata": {},
   "outputs": [],
   "source": [
    "to_fit.to_csv(\"Data/qaly_output_full.csv\")"
   ]
  },
  {
   "cell_type": "code",
   "execution_count": null,
   "metadata": {},
   "outputs": [],
   "source": []
  }
 ],
 "metadata": {
  "kernelspec": {
   "display_name": "Python 3",
   "language": "python",
   "name": "python3"
  },
  "language_info": {
   "codemirror_mode": {
    "name": "ipython",
    "version": 3
   },
   "file_extension": ".py",
   "mimetype": "text/x-python",
   "name": "python",
   "nbconvert_exporter": "python",
   "pygments_lexer": "ipython3",
   "version": "3.8.3"
  }
 },
 "nbformat": 4,
 "nbformat_minor": 4
}
